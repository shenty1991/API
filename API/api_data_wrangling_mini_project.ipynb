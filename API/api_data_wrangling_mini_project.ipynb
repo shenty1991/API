{
 "cells": [
  {
   "cell_type": "markdown",
   "metadata": {},
   "source": [
    "This exercise will require you to pull some data from the Qunadl API. Qaundl is currently the most widely used aggregator of financial market data."
   ]
  },
  {
   "cell_type": "markdown",
   "metadata": {},
   "source": [
    "As a first step, you will need to register a free account on the http://www.quandl.com website."
   ]
  },
  {
   "cell_type": "markdown",
   "metadata": {},
   "source": [
    "After you register, you will be provided with a unique API key, that you should store:"
   ]
  },
  {
   "cell_type": "code",
   "execution_count": 1,
   "metadata": {},
   "outputs": [],
   "source": [
    "# Store the API key as a string - according to PEP8, constants are always named in all upper case\n",
    "API_KEY = 'WhHKjnFaT3WayJuZ9M9q'"
   ]
  },
  {
   "cell_type": "markdown",
   "metadata": {},
   "source": [
    "Qaundl has a large number of data sources, but, unfortunately, most of them require a Premium subscription. Still, there are also a good number of free datasets."
   ]
  },
  {
   "cell_type": "markdown",
   "metadata": {},
   "source": [
    "For this mini project, we will focus on equities data from the Frankfurt Stock Exhange (FSE), which is available for free. We'll try and analyze the stock prices of a company called Carl Zeiss Meditec, which manufactures tools for eye examinations, as well as medical lasers for laser eye surgery: https://www.zeiss.com/meditec/int/home.html. The company is listed under the stock ticker AFX_X."
   ]
  },
  {
   "cell_type": "markdown",
   "metadata": {},
   "source": [
    "You can find the detailed Quandl API instructions here: https://docs.quandl.com/docs/time-series"
   ]
  },
  {
   "cell_type": "markdown",
   "metadata": {},
   "source": [
    "While there is a dedicated Python package for connecting to the Quandl API, we would prefer that you use the *requests* package, which can be easily downloaded using *pip* or *conda*. You can find the documentation for the package here: http://docs.python-requests.org/en/master/ "
   ]
  },
  {
   "cell_type": "markdown",
   "metadata": {},
   "source": [
    "Finally, apart from the *requests* package, you are encouraged to not use any third party Python packages, such as *pandas*, and instead focus on what's available in the Python Standard Library (the *collections* module might come in handy: https://pymotw.com/3/collections/ ).\n",
    "Also, since you won't have access to DataFrames, you are encouraged to us Python's native data structures - preferably dictionaries, though some questions can also be answered using lists.\n",
    "You can read more on these data structures here: https://docs.python.org/3/tutorial/datastructures.html"
   ]
  },
  {
   "cell_type": "markdown",
   "metadata": {},
   "source": [
    "Keep in mind that the JSON responses you will be getting from the API map almost one-to-one to Python's dictionaries. Unfortunately, they can be very nested, so make sure you read up on indexing dictionaries in the documentation provided above."
   ]
  },
  {
   "cell_type": "code",
   "execution_count": 2,
   "metadata": {},
   "outputs": [],
   "source": [
    "# First, import the relevant modules\n",
    "import quandl\n",
    "import requests\n",
    "import pandas as pd\n",
    "\n"
   ]
  },
  {
   "cell_type": "code",
   "execution_count": 3,
   "metadata": {},
   "outputs": [],
   "source": [
    "# Now, call the Quandl API and pull out a small sample of the data (only one day) to get a glimpse\n",
    "# into the JSON structure that will be returned\n",
    "quandl.ApiConfig.api_key = API_KEY\n",
    "dataset='/FSE/EON_X'\n",
    "start_date='2017-01-01'\n",
    "end_date='2017-12-31'\n",
    "#one day sample, suceeded\n",
    "quandl.get('FSE/AFX_X', start_date='2020-11-03', end_date='2020-11-03')\n",
    "\n",
    "\n",
    "url= \"https://www.quandl.com/api/v3/datasets\" + dataset + \".json?start_date=\" + start_date +\"&end_date=\" + end_date + \"&api_key=\" + API_KEY\n",
    "res = requests.get(url)\n",
    "json = res.json()\n",
    "\n",
    "\n"
   ]
  },
  {
   "cell_type": "code",
   "execution_count": 4,
   "metadata": {},
   "outputs": [
    {
     "name": "stdout",
     "output_type": "stream",
     "text": [
      "['Date', 'Open', 'High', 'Low', 'Close', 'Change', 'Traded Volume', 'Turnover', 'Last Price of the Day', 'Daily Traded Units', 'Daily Turnover']\n",
      "['2017-12-29', 9.09, 9.12, 9.06, 9.06, None, 6460376.0, 58678823.0, None, None, None]\n"
     ]
    }
   ],
   "source": [
    "# Inspect the JSON structure of the object you created, and take note of how nested it is,\n",
    "# as well as the overall structure\n",
    "dict = json['dataset']\n",
    "columns = dict['column_names']\n",
    "data = dict['data']\n",
    "\n",
    "print(columns)\n",
    "print(data[0])\n",
    "\n"
   ]
  },
  {
   "cell_type": "markdown",
   "metadata": {},
   "source": [
    "These are your tasks for this mini project:\n",
    "\n",
    "1. Collect data from the Franfurt Stock Exchange, for the ticker AFX_X, for the whole year 2017 (keep in mind that the date format is YYYY-MM-DD).\n",
    "2. Convert the returned JSON object into a Python dictionary.\n",
    "3. Calculate what the highest and lowest opening prices were for the stock in this period.\n",
    "4. What was the largest change in any one day (based on High and Low price)?\n",
    "5. What was the largest change between any two days (based on Closing Price)?\n",
    "6. What was the average daily trading volume during this year?\n",
    "7. (Optional) What was the median trading volume during this year. (Note: you may need to implement your own function for calculating the median.)"
   ]
  },
  {
   "cell_type": "code",
   "execution_count": 5,
   "metadata": {},
   "outputs": [
    {
     "name": "stdout",
     "output_type": "stream",
     "text": [
      "highest opening price =  10.75 \n",
      "lowest open price =  6.65\n",
      "largest change in a day :  0.6999999999999993\n",
      "largest change between two days :  0.3999999999999986\n",
      "average daily trading volume :  11708661.142857144\n",
      "median of daily trading volume :  10542121.0\n"
     ]
    }
   ],
   "source": [
    "#dataframe of the /FSE/EON_X for the whole year 2017\n",
    "df = pd.DataFrame(data=data,columns=columns).sort_values('Date').set_index('Date')\n",
    "#highest and lowest openning prices\n",
    "hopen, lopen = df['Open'].max(), df['Open'].min()\n",
    "print('highest opening price = ',hopen,\"\\nlowest open price = \",lopen)\n",
    "\n",
    "#What was the largest change in any one day (based on High and Low price)?\n",
    "df['Change']= df['High']-df['Low']\n",
    "hchange = df['Change'].max()\n",
    "print('largest change in a day : ',hchange)\n",
    "\n",
    "#What was the largest change between any two days (based on Closing Price)?\n",
    "change_twoday=[]\n",
    "for i in range(len(df['Close'])-1):\n",
    "    change_twoday.append(df['Close'][i+1]-df['Close'][i])\n",
    "max_change_twoday = max(change_twoday)\n",
    "del(change_twoday)\n",
    "print('largest change between two days : ',max_change_twoday)\n",
    "    \n",
    "#What was the average daily trading volume during this year?\n",
    "mean_trading_vol = df['Traded Volume'].mean()\n",
    "print('average daily trading volume : ',mean_trading_vol)\n",
    "\n",
    "#What was the median trading volume during this year. \n",
    "median_trading_vol = df['Traded Volume'].median()\n",
    "print('median of daily trading volume : ',median_trading_vol)\n",
    "\n",
    "\n"
   ]
  },
  {
   "cell_type": "code",
   "execution_count": null,
   "metadata": {},
   "outputs": [],
   "source": []
  }
 ],
 "metadata": {
  "kernelspec": {
   "display_name": "Python 3",
   "language": "python",
   "name": "python3"
  },
  "language_info": {
   "codemirror_mode": {
    "name": "ipython",
    "version": 3
   },
   "file_extension": ".py",
   "mimetype": "text/x-python",
   "name": "python",
   "nbconvert_exporter": "python",
   "pygments_lexer": "ipython3",
   "version": "3.8.3"
  }
 },
 "nbformat": 4,
 "nbformat_minor": 2
}
